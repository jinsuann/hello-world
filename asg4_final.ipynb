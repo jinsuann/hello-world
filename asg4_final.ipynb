{
  "nbformat": 4,
  "nbformat_minor": 0,
  "metadata": {
    "colab": {
      "name": "asg4_final.ipynb",
      "provenance": [],
      "include_colab_link": true
    },
    "kernelspec": {
      "name": "python3",
      "display_name": "Python 3"
    }
  },
  "cells": [
    {
      "cell_type": "markdown",
      "metadata": {
        "id": "view-in-github",
        "colab_type": "text"
      },
      "source": [
        "<a href=\"https://colab.research.google.com/github/jinsuann/hello-world/blob/master/asg4_final.ipynb\" target=\"_parent\"><img src=\"https://colab.research.google.com/assets/colab-badge.svg\" alt=\"Open In Colab\"/></a>"
      ]
    },
    {
      "cell_type": "code",
      "metadata": {
        "id": "mxzL-T4W-QXT",
        "colab_type": "code",
        "colab": {}
      },
      "source": [
        "import pandas as pd\n",
        "import re, math\n",
        "from collections import Counter\n",
        "import numpy as np\n",
        "from functools import partial\n",
        "import pickle"
      ],
      "execution_count": 0,
      "outputs": []
    },
    {
      "cell_type": "code",
      "metadata": {
        "id": "safxaz4B_TlF",
        "colab_type": "code",
        "colab": {}
      },
      "source": [
        "import warnings \n",
        "warnings.simplefilter(action='ignore')"
      ],
      "execution_count": 0,
      "outputs": []
    },
    {
      "cell_type": "code",
      "metadata": {
        "id": "W-Dfga3K_YtL",
        "colab_type": "code",
        "colab": {}
      },
      "source": [
        "import gensim\n",
        "from gensim.matutils import softcossim \n",
        "from gensim import corpora\n",
        "import gensim.downloader as api\n",
        "from gensim.utils import simple_preprocess"
      ],
      "execution_count": 0,
      "outputs": []
    },
    {
      "cell_type": "code",
      "metadata": {
        "id": "iBgYqgqK_c6j",
        "colab_type": "code",
        "colab": {}
      },
      "source": [
        "from gensim.similarities import MatrixSimilarity, SparseMatrixSimilarity, Similarity"
      ],
      "execution_count": 0,
      "outputs": []
    },
    {
      "cell_type": "code",
      "metadata": {
        "id": "rsuRqPkk_f9D",
        "colab_type": "code",
        "outputId": "1f906223-b80f-40fc-ac1b-2585fe0119eb",
        "colab": {
          "base_uri": "https://localhost:8080/",
          "height": 124
        }
      },
      "source": [
        "from google.colab import drive\n",
        "drive.mount('/content/drive')"
      ],
      "execution_count": 0,
      "outputs": [
        {
          "output_type": "stream",
          "text": [
            "Go to this URL in a browser: https://accounts.google.com/o/oauth2/auth?client_id=947318989803-6bn6qk8qdgf4n4g3pfee6491hc0brc4i.apps.googleusercontent.com&redirect_uri=urn%3Aietf%3Awg%3Aoauth%3A2.0%3Aoob&scope=email%20https%3A%2F%2Fwww.googleapis.com%2Fauth%2Fdocs.test%20https%3A%2F%2Fwww.googleapis.com%2Fauth%2Fdrive%20https%3A%2F%2Fwww.googleapis.com%2Fauth%2Fdrive.photos.readonly%20https%3A%2F%2Fwww.googleapis.com%2Fauth%2Fpeopleapi.readonly&response_type=code\n",
            "\n",
            "Enter your authorization code:\n",
            "··········\n",
            "Mounted at /content/drive\n"
          ],
          "name": "stdout"
        }
      ]
    },
    {
      "cell_type": "code",
      "metadata": {
        "id": "dEdebbJA_qwr",
        "colab_type": "code",
        "colab": {}
      },
      "source": [
        "dictionary = corpora.Dictionary.load(\"/content/drive/My Drive/dictionary.dict\")"
      ],
      "execution_count": 0,
      "outputs": []
    },
    {
      "cell_type": "code",
      "metadata": {
        "id": "hwRg6zWQ_vTN",
        "colab_type": "code",
        "colab": {}
      },
      "source": [
        "df = pd.read_pickle('/content/drive/My Drive/Colab Notebooks/asg4-/mod_df.pkl')"
      ],
      "execution_count": 0,
      "outputs": []
    },
    {
      "cell_type": "code",
      "metadata": {
        "id": "ttwdWRqo_vPz",
        "colab_type": "code",
        "colab": {}
      },
      "source": [
        "index = Similarity.load('/content/drive/My Drive/Colab Notebooks/asg4-/new_index.index')\n",
        "index.num_best=1 # To select one best match"
      ],
      "execution_count": 0,
      "outputs": []
    },
    {
      "cell_type": "code",
      "metadata": {
        "id": "Dvf4ArfXEjGs",
        "colab_type": "code",
        "colab": {}
      },
      "source": [
        "query='TCC with HOL and Claims concerning lit plan'\n",
        "#query='i am using colab'\n",
        "query_bow=dictionary.doc2bow(simple_preprocess(query))"
      ],
      "execution_count": 0,
      "outputs": []
    },
    {
      "cell_type": "code",
      "metadata": {
        "id": "WluGB7yFIHw0",
        "colab_type": "code",
        "outputId": "c5324f91-c183-42a2-d655-84884aa1352b",
        "colab": {
          "base_uri": "https://localhost:8080/",
          "height": 69
        }
      },
      "source": [
        "match_score=index[query_bow]\n",
        "if match_score[0][1]< 0.7:\n",
        "  print(\"No Matching description\")\n",
        "else:\n",
        "  match_index=match_score[0][0]\n",
        "  print(\"Matched index:\",match_index)\n",
        "  print('Matched sentence:',df.ChargeDesciption[match_index])\n",
        "  print('RateModified:',df.RateModified[match_index])\n",
        "  \n",
        "\n",
        "\n"
      ],
      "execution_count": 0,
      "outputs": [
        {
          "output_type": "stream",
          "text": [
            "Matched index: 2\n",
            "Matched sentence: TCC with HOL and Claims concerning lit plan\n",
            "RateModified: 225.0\n"
          ],
          "name": "stdout"
        }
      ]
    },
    {
      "cell_type": "code",
      "metadata": {
        "id": "lv5wZpUA06Du",
        "colab_type": "code",
        "colab": {}
      },
      "source": [
        ""
      ],
      "execution_count": 0,
      "outputs": []
    }
  ]
}